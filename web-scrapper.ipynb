{
 "cells": [
  {
   "cell_type": "code",
   "execution_count": 3,
   "metadata": {},
   "outputs": [],
   "source": [
    "from bs4 import BeautifulSoup\n",
    "import requests\n",
    "import random\n",
    "import pandas"
   ]
  },
  {
   "cell_type": "code",
   "execution_count": 200,
   "metadata": {},
   "outputs": [],
   "source": [
    "job_title = \"software developer\"\n",
    "location = \"germany\"\n",
    "page_limit = 5"
   ]
  },
  {
   "cell_type": "code",
   "execution_count": null,
   "metadata": {},
   "outputs": [],
   "source": [
    "# def create_job_search_url(job_title, location, page_num):\n",
    "#     words = job_title.strip().split(\" \")\n",
    "#     print(len(words))\n",
    "#     print(words)\n",
    "#     if len(words) > 1: \n",
    "#         keywords = job_title.strip().replace(\" \",\"%2B\")\n",
    "#         print(keywords)\n",
    "#         url = f\"https://www.linkedin.com/jobs-guest/jobs/api/seeMoreJobPostings/search?keywords={keywords}&location={location}&start={page_num}\"\n",
    "#         print(url)\n",
    "#     else:\n",
    "#         keywords = job_title.strip()\n",
    "#         page_num = str(page_num)\n",
    "#         url = f\"https://www.linkedin.com/jobs-guest/jobs/api/seeMoreJobPostings/search?keywords={keywords}&location={location}&start={page_num}\"\n",
    "#         print(url)\n",
    "#     return url"
   ]
  },
  {
   "cell_type": "code",
   "execution_count": 198,
   "metadata": {},
   "outputs": [],
   "source": [
    "def create_job_search_url(job_title, location, page_num):\n",
    "    keywords = job_title.strip()\n",
    "    keywords = keywords.replace(\" \",\"%2B\")\n",
    "    page_num = str(page_num)\n",
    "    url = f\"https://www.linkedin.com/jobs-guest/jobs/api/seeMoreJobPostings/search?keywords={keywords}&location={location}&start={page_num}\"\n",
    "    # print(url)\n",
    "    return url"
   ]
  },
  {
   "cell_type": "code",
   "execution_count": 1,
   "metadata": {},
   "outputs": [],
   "source": [
    "def create_job_description_url(job_id):\n",
    "    desc_url = f\"https://www.linkedin.com/jobs-guest/jobs/api/jobPosting/{job_id}\"\n",
    "    return desc_url"
   ]
  },
  {
   "cell_type": "code",
   "execution_count": 205,
   "metadata": {},
   "outputs": [
    {
     "name": "stdout",
     "output_type": "stream",
     "text": [
      "0\n",
      "https://www.linkedin.com/jobs-guest/jobs/api/seeMoreJobPostings/search?keywords=Senior%2BFullstack%2BDeveloper%2B(M/F/D)%2Bat%2BPrehApp%2BGmbH&location=germany&start=0\n",
      "1\n",
      "https://www.linkedin.com/jobs-guest/jobs/api/seeMoreJobPostings/search?keywords=Senior%2BFullstack%2BDeveloper%2B(M/F/D)%2Bat%2BPrehApp%2BGmbH&location=germany&start=1\n",
      "2\n",
      "https://www.linkedin.com/jobs-guest/jobs/api/seeMoreJobPostings/search?keywords=Senior%2BFullstack%2BDeveloper%2B(M/F/D)%2Bat%2BPrehApp%2BGmbH&location=germany&start=2\n",
      "3\n",
      "https://www.linkedin.com/jobs-guest/jobs/api/seeMoreJobPostings/search?keywords=Senior%2BFullstack%2BDeveloper%2B(M/F/D)%2Bat%2BPrehApp%2BGmbH&location=germany&start=3\n",
      "4\n",
      "https://www.linkedin.com/jobs-guest/jobs/api/seeMoreJobPostings/search?keywords=Senior%2BFullstack%2BDeveloper%2B(M/F/D)%2Bat%2BPrehApp%2BGmbH&location=germany&start=4\n",
      "5\n",
      "https://www.linkedin.com/jobs-guest/jobs/api/seeMoreJobPostings/search?keywords=Senior%2BFullstack%2BDeveloper%2B(M/F/D)%2Bat%2BPrehApp%2BGmbH&location=germany&start=5\n"
     ]
    }
   ],
   "source": [
    "page_num = 0\n",
    "while page_num <= page_limit:\n",
    "    print(page_num)\n",
    "    job_search_url = create_job_search_url(job_title, location, page_num)\n",
    "    print(job_search_url)\n",
    "    jobs_list = requests.get(job_search_url)\n",
    "    if jobs_list is not None:\n",
    "        job_list_soup = BeautifulSoup(jobs_list.text, \"html.parser\")\n",
    "        page_jobs = job_list_soup.find_all(\"li\")\n",
    "        for job in page_jobs:\n",
    "            job_div = job.find(\"div\", {\"class\":\"base-card\"})\n",
    "            job_role = job_div.find(\"h3\", {\"class\":\"base-search-card__title\"}).get_text()\n",
    "            job_location = job_div.find(\"span\", {\"class\":\"job-search-card__location\"}).get_text()\n",
    "            company_name = job_div.find(\"a\", {\"class\":\"hidden-nested-link\"}).get_text()\n",
    "            try:\n",
    "                date_posted_exact = job_div.find(\"time\", {\"class\":\"job-search-card__listdate\"}).get(\"datetime\")\n",
    "            except:\n",
    "                date_posted_exact = None\n",
    "            try:\n",
    "                date_posted_relative = job_div.find(\"time\", {\"class\":\"job-search-card__listdate\"}).get_text().strip()\n",
    "            except:\n",
    "                date_posted_relative = None    \n",
    "            job_id = job_div.get(\"data-entity-urn\").split(\":\")[3]\n",
    "            job_description_page = requests.get(create_job_description_url(job_id))\n",
    "            job_dsec_soup = BeautifulSoup(job_description_page.text, \"html.parser\")\n",
    "        page_num = page_num + 1"
   ]
  },
  {
   "cell_type": "code",
   "execution_count": 193,
   "metadata": {},
   "outputs": [
    {
     "name": "stdout",
     "output_type": "stream",
     "text": [
      "2023-03-31\n",
      "1 year ago\n"
     ]
    }
   ],
   "source": [
    "\n",
    "print(date_posted_exact)\n",
    "print(date_posted_relative)"
   ]
  },
  {
   "cell_type": "markdown",
   "metadata": {},
   "source": [
    "4174817695"
   ]
  },
  {
   "cell_type": "code",
   "execution_count": 24,
   "metadata": {},
   "outputs": [
    {
     "name": "stdout",
     "output_type": "stream",
     "text": [
      "Python Software EngineerdivUniquedivBerlin, Germanydiv2 weeks agodivOver 200 applicantsdivSee who Unique has hired for this roledivApplydivSavedivReport this jobdivDirect message the job poster from UniquedivMarwa HughesdivMarwa HughesdivTalent Acquisition, RecruiterdivAt Unique, we leverage generative AI to transform the financial services industry. Our mission is to revolutionize the financial sector by enhancing efficiency and driving growth. Our LLM-agnostic platform offers ready-to-use financial agents for wealth management, investment banking, and private equity. Unique is a market leader in providing generative AI solutions for financial institutions serving over 40 clients globally.divWe are looking for a Python Software Engineer who is passionate about building sustainable architectures, developing AI-driven tools, and collaborating closely with data scientists to push the boundaries of innovation.divResponsibilitiesdivTransform data science requirementsdivinto scalable, efficient, and production-ready tools for AI applicationsdivDevelop and maintain sustainable architecturesdiv, ensuring scalability, reliability, and performancedivOwn the development toolkitdiv, working closely with other Python engineers to create reusable building blocks for AI and software developmentdivEnsure best practicesdivin software development, code quality, and architectural standardsdivWhat do you need to succeeddivStrong experience in Python software engineering, with a focus on creating scalable architecturesdivExperience in developing SDKs, or toolkits for internal or external usersdivKnowledge of design patternsdivFamiliarity with cloud services, CI/CD pipelines (including GitHub Workflows), and containerization (e.g. Docker)divHands-on experience with MlOps and DevOps frameworks is a plusdivWhat we offer / BenefitsdivInnovative Work Environmentdiv🚀 Engage in groundbreaking projects within the Generative AI spacedivCulturediv🌿 A modern company with flat hierarchies that focuses on a people-oriented culture and places great emphasis on transparency and open communicationdivFlexibilitydiv👩🏻‍💻 in working hours and locationdivCompetitive compensationdivand investment opportunitiesdiv💰divA nice and modern co-working space in central Berlin ✨divShow moredivShow lessdivSeniority leveldivMid-Senior leveldivEmployment typedivFull-timedivJob functiondivEngineeringdivIndustriesdivFinancial ServicesdivReferrals increase your chances of interviewing at Unique by 2xdivSee who you know\n"
     ]
    }
   ],
   "source": [
    "job_description_page = requests.get(create_job_description_url(4174817695))\n",
    "# if job_description_page.status_code == 200:\n",
    "job_dsec_soup = BeautifulSoup(job_description_page.text, \"html.parser\")   \n",
    "job_desc_box = job_dsec_soup.get_text(\"div\", {\"class\":\"show-more-less-html__markup show-more-less-html__markup--clamp-after-5relative overflow-hidden\"})\n",
    "print(job_desc_box)"
   ]
  },
  {
   "cell_type": "code",
   "execution_count": null,
   "metadata": {},
   "outputs": [
    {
     "ename": "AttributeError",
     "evalue": "'NoneType' object has no attribute 'find_all'",
     "output_type": "error",
     "traceback": [
      "\u001b[1;31m---------------------------------------------------------------------------\u001b[0m",
      "\u001b[1;31mAttributeError\u001b[0m                            Traceback (most recent call last)",
      "Cell \u001b[1;32mIn[18], line 1\u001b[0m\n\u001b[1;32m----> 1\u001b[0m tasks \u001b[38;5;241m=\u001b[39m \u001b[43mjob_desc_box\u001b[49m\u001b[38;5;241;43m.\u001b[39;49m\u001b[43mfind_all\u001b[49m(\u001b[38;5;124m\"\u001b[39m\u001b[38;5;124mul\u001b[39m\u001b[38;5;124m\"\u001b[39m)[\u001b[38;5;241m0\u001b[39m]\n\u001b[0;32m      2\u001b[0m qualifications \u001b[38;5;241m=\u001b[39m job_desc_box\u001b[38;5;241m.\u001b[39mfind_all(\u001b[38;5;124m\"\u001b[39m\u001b[38;5;124mul\u001b[39m\u001b[38;5;124m\"\u001b[39m)[\u001b[38;5;241m1\u001b[39m]\n",
      "\u001b[1;31mAttributeError\u001b[0m: 'NoneType' object has no attribute 'find_all'"
     ]
    }
   ],
   "source": [
    "tasks = job_desc_box.find_all(\"ul\")[0]\n",
    "qualifications = job_desc_box.find_all(\"ul\")[1]                                                                 "
   ]
  },
  {
   "cell_type": "code",
   "execution_count": 17,
   "metadata": {},
   "outputs": [
    {
     "name": "stdout",
     "output_type": "stream",
     "text": [
      "<ul class=\"collapsible-dropdown__list hidden container-raised absolute w-auto overflow-y-auto flex-col items-stretch z-1 bottom-auto top-[100%]\" role=\"menu\" tabindex=\"-1\">\n",
      "<li class=\"ellipsis-menu__item border-t-1 border-solid border-color-border-low-emphasis first-of-type:border-none flex\">\n",
      "<a class=\"semaphore__toggle visited:text-color-text-secondary ellipsis-menu__semaphore ellipsis-menu__item-button flex items-center w-full p-1 cursor-pointer font-sans text-sm font-bold link-styled focus:link-styled link:no-underline active:bg-color-background-container-tint focus:bg-color-background-container-tint hover:bg-color-background-container-tint outline-offset-[-2px]\" data-is-logged-in=\"false\" data-item-type=\"semaphore\" data-modal=\"semaphore__toggle\" data-semaphore-content-type=\"JOB\" data-semaphore-content-urn=\"urn:li:jobPosting:4174817695\" data-semaphore-tracking-prefix=\"public_jobs_ellipsis-menu-semaphore\" data-tracking-control-name=\"public_jobs_ellipsis-menu-semaphore-sign-in-redirect\" data-tracking-will-navigate=\"\" href=\"/uas/login?fromSignIn=true&amp;session_redirect=https%3A%2F%2Fde.linkedin.com%2Fjobs%2Fview%2Fpython-software-engineer-at-unique-4174817695&amp;trk=public_jobs_ellipsis-menu-semaphore-sign-in-redirect&amp;guestReportContentType=JOB&amp;_f=guest-reporting\">\n",
      "<!-- -->\n",
      "<icon class=\"ellipsis-menu__item-icon text-color-text h-[24px] w-[24px] mr-1\" data-delayed-url=\"https://static.licdn.com/aero-v1/sc/h/iq0x9q37wj214o129ai1yjut\">\n",
      "</icon>\n",
      "                      Report this job\n",
      "                    \n",
      "    </a>\n",
      "<!-- -->\n",
      "</li>\n",
      "<!-- -->\n",
      "</ul>\n"
     ]
    }
   ],
   "source": [
    "print(tasks)"
   ]
  }
 ],
 "metadata": {
  "kernelspec": {
   "display_name": ".venv",
   "language": "python",
   "name": "python3"
  },
  "language_info": {
   "codemirror_mode": {
    "name": "ipython",
    "version": 3
   },
   "file_extension": ".py",
   "mimetype": "text/x-python",
   "name": "python",
   "nbconvert_exporter": "python",
   "pygments_lexer": "ipython3",
   "version": "3.10.4"
  }
 },
 "nbformat": 4,
 "nbformat_minor": 2
}
